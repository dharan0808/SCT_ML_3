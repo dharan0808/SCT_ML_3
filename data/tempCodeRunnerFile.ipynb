import os
import cv2
import numpy as np 
import random
import matplotlib.pyplot as plt 
from sklearn.model_selection import train_test_split
from sklearn.svm import SVC
from sklearn.metrics import classification_report, accuracy_score
from tqdm import tqdm

DATA_DIR = 'data/train'
IMG_SIZE = 64

def load_data(data_dir, sample_size=2000):
    images = []
    labels = []

    files = os.listdir(data_dir)
    random.seed(42)   #random.seed(x) sets the starting point (or "seed") for the random number generator. So if you shuffle a list, or randomly sample data, setting the same seed will ensure you get the same result every time.
    random.shuffle(files)    #we shuffle because the first 12500 images are entirely of cats' and the next 12500 are of dogs', to get random 2000 we shuffle
    files = files[:sample_size]

    for file in tqdm(files):
        label = 1 if 'dog' in file else 0
        img_path = os.path.join(data_dir,file)
        img = cv2.imread(img_path)
        img = cv2.resize(img, (IMG_SIZE,IMG_SIZE))
        img = cv2.cvtColor(img, cv2.COLOR_BGR2GRAY)        #grayscale image
        images.append(img.flatten())                       #flatten image to 1D
        labels.append(label)

    return np.array(images), np.array(labels)

X,y =load_data(DATA_DIR, sample_size=2000)

X_train,X_test, y_train, y_test = train_test_split(X,y,test_size=0.2,random_state=42,stratify=y)

print("Training SVM...")
clf=SVC(kernel='linear')
clf.fit(X_train,y_train)
print("Training Completed!")

y_pred=clf.predict(X_test)

print("\nClassification Report: ")
print(classification_report(y_test, y_pred))

print("Accuracy : ", accuracy_score(y_test,y_pred))